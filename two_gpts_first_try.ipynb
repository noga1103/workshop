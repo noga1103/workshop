{
 "cells": [
  {
   "cell_type": "code",
   "execution_count": 1,
   "id": "1dde3d86",
   "metadata": {},
   "outputs": [
    {
     "name": "stdout",
     "output_type": "stream",
     "text": [
      "Requirement already satisfied: langchain in /Users/nogabregman/anaconda3/lib/python3.10/site-packages (0.1.1)\n",
      "Requirement already satisfied: openai in /Users/nogabregman/anaconda3/lib/python3.10/site-packages (0.28.0)\n",
      "Requirement already satisfied: tqdm in /Users/nogabregman/anaconda3/lib/python3.10/site-packages (4.64.1)\n",
      "Requirement already satisfied: aiohttp<4.0.0,>=3.8.3 in /Users/nogabregman/anaconda3/lib/python3.10/site-packages (from langchain) (3.9.1)\n",
      "Requirement already satisfied: PyYAML>=5.3 in /Users/nogabregman/anaconda3/lib/python3.10/site-packages (from langchain) (6.0)\n",
      "Requirement already satisfied: requests<3,>=2 in /Users/nogabregman/anaconda3/lib/python3.10/site-packages (from langchain) (2.28.1)\n",
      "Requirement already satisfied: pydantic<3,>=1 in /Users/nogabregman/anaconda3/lib/python3.10/site-packages (from langchain) (2.5.3)\n",
      "Requirement already satisfied: jsonpatch<2.0,>=1.33 in /Users/nogabregman/anaconda3/lib/python3.10/site-packages (from langchain) (1.33)\n",
      "Requirement already satisfied: numpy<2,>=1 in /Users/nogabregman/anaconda3/lib/python3.10/site-packages (from langchain) (1.23.5)\n",
      "Requirement already satisfied: async-timeout<5.0.0,>=4.0.0 in /Users/nogabregman/anaconda3/lib/python3.10/site-packages (from langchain) (4.0.3)\n",
      "Requirement already satisfied: tenacity<9.0.0,>=8.1.0 in /Users/nogabregman/anaconda3/lib/python3.10/site-packages (from langchain) (8.2.3)\n",
      "Requirement already satisfied: langchain-core<0.2,>=0.1.9 in /Users/nogabregman/anaconda3/lib/python3.10/site-packages (from langchain) (0.1.13)\n",
      "Requirement already satisfied: SQLAlchemy<3,>=1.4 in /Users/nogabregman/anaconda3/lib/python3.10/site-packages (from langchain) (1.4.39)\n",
      "Requirement already satisfied: langchain-community<0.1,>=0.0.13 in /Users/nogabregman/anaconda3/lib/python3.10/site-packages (from langchain) (0.0.13)\n",
      "Requirement already satisfied: dataclasses-json<0.7,>=0.5.7 in /Users/nogabregman/anaconda3/lib/python3.10/site-packages (from langchain) (0.6.3)\n",
      "Requirement already satisfied: langsmith<0.1.0,>=0.0.77 in /Users/nogabregman/anaconda3/lib/python3.10/site-packages (from langchain) (0.0.83)\n",
      "Requirement already satisfied: yarl<2.0,>=1.0 in /Users/nogabregman/anaconda3/lib/python3.10/site-packages (from aiohttp<4.0.0,>=3.8.3->langchain) (1.9.4)\n",
      "Requirement already satisfied: multidict<7.0,>=4.5 in /Users/nogabregman/anaconda3/lib/python3.10/site-packages (from aiohttp<4.0.0,>=3.8.3->langchain) (6.0.4)\n",
      "Requirement already satisfied: frozenlist>=1.1.1 in /Users/nogabregman/anaconda3/lib/python3.10/site-packages (from aiohttp<4.0.0,>=3.8.3->langchain) (1.4.1)\n",
      "Requirement already satisfied: aiosignal>=1.1.2 in /Users/nogabregman/anaconda3/lib/python3.10/site-packages (from aiohttp<4.0.0,>=3.8.3->langchain) (1.3.1)\n",
      "Requirement already satisfied: attrs>=17.3.0 in /Users/nogabregman/anaconda3/lib/python3.10/site-packages (from aiohttp<4.0.0,>=3.8.3->langchain) (22.1.0)\n",
      "Requirement already satisfied: typing-inspect<1,>=0.4.0 in /Users/nogabregman/anaconda3/lib/python3.10/site-packages (from dataclasses-json<0.7,>=0.5.7->langchain) (0.9.0)\n",
      "Requirement already satisfied: marshmallow<4.0.0,>=3.18.0 in /Users/nogabregman/anaconda3/lib/python3.10/site-packages (from dataclasses-json<0.7,>=0.5.7->langchain) (3.20.2)\n",
      "Requirement already satisfied: jsonpointer>=1.9 in /Users/nogabregman/anaconda3/lib/python3.10/site-packages (from jsonpatch<2.0,>=1.33->langchain) (2.1)\n",
      "Requirement already satisfied: packaging<24.0,>=23.2 in /Users/nogabregman/anaconda3/lib/python3.10/site-packages (from langchain-core<0.2,>=0.1.9->langchain) (23.2)\n",
      "Requirement already satisfied: anyio<5,>=3 in /Users/nogabregman/anaconda3/lib/python3.10/site-packages (from langchain-core<0.2,>=0.1.9->langchain) (3.5.0)\n",
      "Requirement already satisfied: pydantic-core==2.14.6 in /Users/nogabregman/anaconda3/lib/python3.10/site-packages (from pydantic<3,>=1->langchain) (2.14.6)\n",
      "Requirement already satisfied: annotated-types>=0.4.0 in /Users/nogabregman/anaconda3/lib/python3.10/site-packages (from pydantic<3,>=1->langchain) (0.6.0)\n",
      "Requirement already satisfied: typing-extensions>=4.6.1 in /Users/nogabregman/anaconda3/lib/python3.10/site-packages (from pydantic<3,>=1->langchain) (4.9.0)\n",
      "Requirement already satisfied: certifi>=2017.4.17 in /Users/nogabregman/anaconda3/lib/python3.10/site-packages (from requests<3,>=2->langchain) (2022.12.7)\n",
      "Requirement already satisfied: charset-normalizer<3,>=2 in /Users/nogabregman/anaconda3/lib/python3.10/site-packages (from requests<3,>=2->langchain) (2.0.4)\n",
      "Requirement already satisfied: idna<4,>=2.5 in /Users/nogabregman/anaconda3/lib/python3.10/site-packages (from requests<3,>=2->langchain) (3.4)\n",
      "Requirement already satisfied: urllib3<1.27,>=1.21.1 in /Users/nogabregman/anaconda3/lib/python3.10/site-packages (from requests<3,>=2->langchain) (1.26.14)\n",
      "Requirement already satisfied: sniffio>=1.1 in /Users/nogabregman/anaconda3/lib/python3.10/site-packages (from anyio<5,>=3->langchain-core<0.2,>=0.1.9->langchain) (1.2.0)\n",
      "Requirement already satisfied: mypy-extensions>=0.3.0 in /Users/nogabregman/anaconda3/lib/python3.10/site-packages (from typing-inspect<1,>=0.4.0->dataclasses-json<0.7,>=0.5.7->langchain) (0.4.3)\n"
     ]
    }
   ],
   "source": [
    "import sys\n",
    "\n",
    "!{sys.executable} -m pip install langchain openai tqdm"
   ]
  },
  {
   "cell_type": "code",
   "execution_count": 2,
   "id": "9c042fff",
   "metadata": {},
   "outputs": [],
   "source": [
    "OPENAI_API_KEY = \"needed for using the model\""
   ]
  },
  {
   "cell_type": "code",
   "execution_count": 7,
   "id": "4c957009",
   "metadata": {},
   "outputs": [],
   "source": [
    "from langchain.chat_models import ChatOpenAI\n",
    "\n",
    "llm = ChatOpenAI(openai_api_key=OPENAI_API_KEY)"
   ]
  },
  {
   "cell_type": "code",
   "execution_count": 35,
   "id": "039b973d",
   "metadata": {},
   "outputs": [],
   "source": [
    "system_prompt = \"\"\"take the task provided and change it into a psudo code. return only the code.\n",
    "\"\"\"\n",
    "\n",
    "my_magic_prompt = \"\"\"{task}\"\"\""
   ]
  },
  {
   "cell_type": "code",
   "execution_count": 36,
   "id": "4bf80afa",
   "metadata": {},
   "outputs": [],
   "source": [
    "from langchain.prompts import ChatPromptTemplate\n",
    "\n",
    "prompt = ChatPromptTemplate.from_messages([\n",
    "    (\"system\", system_prompt),\n",
    "    (\"user\", my_magic_prompt),\n",
    "])"
   ]
  },
  {
   "cell_type": "code",
   "execution_count": 37,
   "id": "0e6c0ed1",
   "metadata": {},
   "outputs": [],
   "source": [
    "from langchain_core.output_parsers import StrOutputParser\n",
    "\n",
    "output_parser = StrOutputParser()\n",
    "\n",
    "chain_of_code = prompt | llm | output_parser"
   ]
  },
  {
   "cell_type": "code",
   "execution_count": 38,
   "id": "f52f10a8",
   "metadata": {},
   "outputs": [],
   "source": [
    "import pandas as pd\n",
    "\n",
    "test = pd.read_csv('train_with_translation.csv')"
   ]
  },
  {
   "cell_type": "code",
   "execution_count": 108,
   "id": "761cf67b",
   "metadata": {},
   "outputs": [
    {
     "data": {
      "text/plain": [
       "'The digits of a four-digit number that is a multiple of 5 were written in reverse order, resulting in a second four-digit number. Then, the second number was subtracted from the original number, yielding 2457. Indicate any one such original number in your answer.'"
      ]
     },
     "execution_count": 108,
     "metadata": {},
     "output_type": "execute_result"
    }
   ],
   "source": [
    "sample = test.translation.sample()\n",
    "sample = sample.values[0]\n",
    "sample"
   ]
  },
  {
   "cell_type": "code",
   "execution_count": 116,
   "id": "0cfd7999",
   "metadata": {},
   "outputs": [
    {
     "data": {
      "text/plain": [
       "'Let\\'s denote the original four-digit number as \"abcd\" where a, b, c, and d represent the thousands, hundreds, tens, and units digits respectively.\\n\\n1. Reverse the digits of the original number to obtain a new number \"dcba\".\\n2. Subtract the new number from the original number to get the result 2457.\\n\\nPseudocode:\\n```\\noriginalNumber = 1000*a + 100*b + 10*c + d\\nnewNumber = 1000*d + 100*c + 10*b + a\\n\\nresult = originalNumber - newNumber\\n\\nif result = 2457:\\n    return originalNumber\\n```\\n\\nNote: This pseudocode does not include any looping or exhaustive searching. It simply represents the steps required to find one such original number that satisfies the given conditions.'"
      ]
     },
     "execution_count": 116,
     "metadata": {},
     "output_type": "execute_result"
    }
   ],
   "source": [
    "code = chain_of_code.invoke({\"task\": sample})\n",
    "code"
   ]
  },
  {
   "cell_type": "code",
   "execution_count": 117,
   "id": "26ca90c4",
   "metadata": {},
   "outputs": [],
   "source": [
    "answer_prompt = \"\"\"\n",
    "code:\n",
    "{code}\n",
    "get the final answer using the code, step by step like the code. end with a line what the final answer is, don't approximate.\n",
    "\"\"\""
   ]
  },
  {
   "cell_type": "code",
   "execution_count": 118,
   "id": "5f91c59f",
   "metadata": {},
   "outputs": [],
   "source": [
    "prompt_ans = ChatPromptTemplate.from_messages([\n",
    "    (\"system\", answer_prompt),\n",
    "    (\"user\", my_magic_prompt),\n",
    "])\n",
    "chain_answer = prompt_ans | llm | output_parser"
   ]
  },
  {
   "cell_type": "code",
   "execution_count": 119,
   "id": "b821028b",
   "metadata": {},
   "outputs": [
    {
     "data": {
      "text/plain": [
       "'Let\\'s go step by step to find the original number.\\n\\n1. Reverse the digits of the original number to obtain a new number \"dcba\":\\n   - Reverse the digits of 2457: 7542\\n\\n2. Subtract the new number from the original number to get the result 2457:\\n   - Original number - New number = 2457\\n   - Let\\'s denote the original number as \"abcd\" and the new number as \"dcba\":\\n   - 1000*a + 100*b + 10*c + d - (1000*d + 100*c + 10*b + a) = 2457\\n   - Simplifying the equation, we get:\\n   - 999*a - 999*d + 90*b - 90*c = 2457\\n   - Divide both sides of the equation by 9 to simplify further:\\n   - 111*a - 111*d + 10*b - 10*c = 273\\n\\nWe need to find values for a, b, c, and d that satisfy the equation 111*a - 111*d + 10*b - 10*c = 273.\\n\\nOne possible solution is:\\na = 3\\nb = 0\\nc = 2\\nd = 9\\n\\nLet\\'s substitute these values back into the original number and verify if it satisfies the conditions:\\nOriginal number = 1000*a + 100*b + 10*c + d = 1000*3 + 100*0 + 10*2 + 9 = 3209\\n\\nNow, let\\'s check if reversing the digits of the original number gives us the second number:\\nReverse of 3209 = 9023\\n\\nFinally, let\\'s subtract the new number from the original number:\\n3209 - 9023 = -5814\\n\\nThe result is not 2457, so the solution we found is not correct.\\n\\nLet\\'s try another set of values for a, b, c, and d.\\n\\na = 4\\nb = 1\\nc = 7\\nd = 6\\n\\nOriginal number = 1000*a + 100*b + 10*c + d = 1000*4 + 100*1 + 10*7 + 6 = 4176\\n\\nReverse of 4176 = 6714\\n\\n4176 - 6714 = -2538\\n\\nAgain, the result is not 2457.\\n\\nWe can continue trying different values for a, b, c, and d until we find a solution that satisfies the conditions. However, based on the two attempts we made, it seems that there might not be a solution that gives us the desired result of 2457.\\n\\nTherefore, there is no original four-digit number that satisfies the given conditions.'"
      ]
     },
     "execution_count": 119,
     "metadata": {},
     "output_type": "execute_result"
    }
   ],
   "source": [
    "answer = chain_answer.invoke({\n",
    "    \"task\": sample,\n",
    "    \"code\": code,\n",
    "})\n",
    "answer"
   ]
  },
  {
   "cell_type": "code",
   "execution_count": 120,
   "id": "c081a036",
   "metadata": {},
   "outputs": [],
   "source": [
    "extract_answer_prompt = \"\"\"\n",
    "answer: {answer}\n",
    "get only the final answer as float, no other charcter but float is allowed. if there multiple numbers concat them.\n",
    "\"\"\""
   ]
  },
  {
   "cell_type": "code",
   "execution_count": 121,
   "id": "f3ee7cae",
   "metadata": {},
   "outputs": [],
   "source": [
    "prompt_ans_ext = ChatPromptTemplate.from_messages([\n",
    "    (\"system\", extract_answer_prompt),\n",
    "    (\"user\", \"\"\"\"\"\"),\n",
    "])\n",
    "chain_answer_ext = prompt_ans_ext | llm | output_parser"
   ]
  },
  {
   "cell_type": "code",
   "execution_count": 122,
   "id": "20be3afe",
   "metadata": {},
   "outputs": [
    {
     "data": {
      "text/plain": [
       "'The final answer is that there is no original four-digit number that satisfies the given conditions.'"
      ]
     },
     "execution_count": 122,
     "metadata": {},
     "output_type": "execute_result"
    }
   ],
   "source": [
    "ext_answer = chain_answer_ext.invoke({\n",
    "    \"answer\": answer,\n",
    "})\n",
    "ext_answer"
   ]
  },
  {
   "cell_type": "code",
   "execution_count": 106,
   "id": "6508a01f",
   "metadata": {},
   "outputs": [
    {
     "name": "stderr",
     "output_type": "stream",
     "text": [
      "100%|█████████████████████████████████████████████| 3/3 [01:37<00:00, 32.48s/it]"
     ]
    },
    {
     "name": "stdout",
     "output_type": "stream",
     "text": [
      "Tokens Used: 5300\n",
      "\tPrompt Tokens: 3554\n",
      "\tCompletion Tokens: 1746\n",
      "Successful Requests: 9\n",
      "Total Cost (USD): $0.008823\n"
     ]
    },
    {
     "name": "stderr",
     "output_type": "stream",
     "text": [
      "\n"
     ]
    }
   ],
   "source": [
    "from langchain.callbacks import get_openai_callback\n",
    "from tqdm.auto import tqdm\n",
    "\n",
    "tqdm.pandas()\n",
    "test[['answer', 'solution']] = None\n",
    "\n",
    "def get_answer_llm(translation, chain_answer_ext=chain_answer_ext, chain_answer=chain_answer):\n",
    "    code = chain_of_code.invoke({\"task\": sample})\n",
    "\n",
    "    answer = chain_answer.invoke({\n",
    "    \"task\": sample,\n",
    "    \"code\": code,\n",
    "    })\n",
    "    ext_answer = chain_answer_ext.invoke({\n",
    "    \"answer\": answer,\n",
    "    })\n",
    "    return pd.Series({'ext_answer': ext_answer, 'answer': answer})\n",
    "\n",
    "with get_openai_callback() as cb:\n",
    "    test.loc[test['answer'].isna(), ['ext_answer', 'answer']] = (\n",
    "        test.loc[test['answer'].isna(), 'translation'].sample(3).progress_apply(get_answer_llm)\n",
    "    )\n",
    "    print(cb)"
   ]
  },
  {
   "cell_type": "code",
   "execution_count": 107,
   "id": "2d106c5a",
   "metadata": {},
   "outputs": [
    {
     "data": {
      "text/html": [
       "<div>\n",
       "<style scoped>\n",
       "    .dataframe tbody tr th:only-of-type {\n",
       "        vertical-align: middle;\n",
       "    }\n",
       "\n",
       "    .dataframe tbody tr th {\n",
       "        vertical-align: top;\n",
       "    }\n",
       "\n",
       "    .dataframe thead th {\n",
       "        text-align: right;\n",
       "    }\n",
       "</style>\n",
       "<table border=\"1\" class=\"dataframe\">\n",
       "  <thead>\n",
       "    <tr style=\"text-align: right;\">\n",
       "      <th></th>\n",
       "      <th>problem_id</th>\n",
       "      <th>problem_text</th>\n",
       "      <th>answer</th>\n",
       "      <th>hint</th>\n",
       "      <th>translation</th>\n",
       "      <th>solution</th>\n",
       "      <th>ext_answer</th>\n",
       "    </tr>\n",
       "  </thead>\n",
       "  <tbody>\n",
       "    <tr>\n",
       "      <th>59</th>\n",
       "      <td>10974</td>\n",
       "      <td>В параллелограмме $ABCD$ известно, что $AB=6$,...</td>\n",
       "      <td>For each function, we need to choose the corre...</td>\n",
       "      <td>прямоугольник, теорема пифагора, площадь</td>\n",
       "      <td>In parallelogram $ABCD$, it is known that $AB=...</td>\n",
       "      <td>None</td>\n",
       "      <td>3, 4, 1, 2</td>\n",
       "    </tr>\n",
       "    <tr>\n",
       "      <th>74</th>\n",
       "      <td>7113</td>\n",
       "      <td>Набор полотенец, который стоил 280 рублей, про...</td>\n",
       "      <td>First, let's match the functions with their ch...</td>\n",
       "      <td>процент от числа</td>\n",
       "      <td>A set of towels that cost 280 rubles is being ...</td>\n",
       "      <td>None</td>\n",
       "      <td>1432</td>\n",
       "    </tr>\n",
       "    <tr>\n",
       "      <th>94</th>\n",
       "      <td>13550</td>\n",
       "      <td>Расстояние между городами A и B равно 470 км. ...</td>\n",
       "      <td>The code provided is trying to match the funct...</td>\n",
       "      <td>подсчеты</td>\n",
       "      <td>The distance between cities A and B is 470 km....</td>\n",
       "      <td>None</td>\n",
       "      <td>1.2.3.4</td>\n",
       "    </tr>\n",
       "  </tbody>\n",
       "</table>\n",
       "</div>"
      ],
      "text/plain": [
       "    problem_id                                       problem_text  \\\n",
       "59       10974  В параллелограмме $ABCD$ известно, что $AB=6$,...   \n",
       "74        7113  Набор полотенец, который стоил 280 рублей, про...   \n",
       "94       13550  Расстояние между городами A и B равно 470 км. ...   \n",
       "\n",
       "                                               answer  \\\n",
       "59  For each function, we need to choose the corre...   \n",
       "74  First, let's match the functions with their ch...   \n",
       "94  The code provided is trying to match the funct...   \n",
       "\n",
       "                                        hint  \\\n",
       "59  прямоугольник, теорема пифагора, площадь   \n",
       "74                          процент от числа   \n",
       "94                                  подсчеты   \n",
       "\n",
       "                                          translation solution  ext_answer  \n",
       "59  In parallelogram $ABCD$, it is known that $AB=...     None  3, 4, 1, 2  \n",
       "74  A set of towels that cost 280 rubles is being ...     None        1432  \n",
       "94  The distance between cities A and B is 470 km....     None     1.2.3.4  "
      ]
     },
     "execution_count": 107,
     "metadata": {},
     "output_type": "execute_result"
    }
   ],
   "source": [
    "\n",
    "test[~test.answer.isna()]"
   ]
  },
  {
   "cell_type": "code",
   "execution_count": null,
   "id": "49c150ab",
   "metadata": {},
   "outputs": [],
   "source": []
  }
 ],
 "metadata": {
  "kernelspec": {
   "display_name": "Python 3 (ipykernel)",
   "language": "python",
   "name": "python3"
  },
  "language_info": {
   "codemirror_mode": {
    "name": "ipython",
    "version": 3
   },
   "file_extension": ".py",
   "mimetype": "text/x-python",
   "name": "python",
   "nbconvert_exporter": "python",
   "pygments_lexer": "ipython3",
   "version": "3.10.9"
  }
 },
 "nbformat": 4,
 "nbformat_minor": 5
}
